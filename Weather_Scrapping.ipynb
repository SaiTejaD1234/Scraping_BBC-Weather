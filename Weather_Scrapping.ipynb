{
  "cells": [
    {
      "cell_type": "markdown",
      "id": "d7b73eca",
      "metadata": {
        "id": "d7b73eca"
      },
      "source": [
        "# **Scraping Weather from BBC Website**"
      ]
    },
    {
      "cell_type": "markdown",
      "source": [
        "# **0.0 Imports**"
      ],
      "metadata": {
        "id": "0Jb3azHe2UIJ"
      },
      "id": "0Jb3azHe2UIJ"
    },
    {
      "cell_type": "code",
      "execution_count": 1,
      "id": "897c3f11",
      "metadata": {
        "id": "897c3f11"
      },
      "outputs": [],
      "source": [
        "import os\n",
        "import requests\n",
        "import json\n",
        "from urllib.parse import urlencode\n",
        "import numpy as np\n",
        "import pandas as pd\n",
        "import re  \n",
        "from bs4 import BeautifulSoup\n",
        "from datetime import datetime"
      ]
    },
    {
      "cell_type": "markdown",
      "source": [
        "# **1.0 Helper Function**"
      ],
      "metadata": {
        "id": "aeVy0KIn3FZP"
      },
      "id": "aeVy0KIn3FZP"
    },
    {
      "cell_type": "code",
      "execution_count": 2,
      "id": "ebaade31",
      "metadata": {
        "id": "ebaade31"
      },
      "outputs": [],
      "source": [
        "def location_id(c):\n",
        "    location_url = 'https://locator-service.api.bbci.co.uk/locations?' + urlencode({\n",
        "   'api_key': 'AGbFAKx58hyjQScCXIYrxuEwJh2W2cmv',\n",
        "   's': c,\n",
        "   'stack': 'aws',\n",
        "   'locale': 'en',\n",
        "   'filter': 'international',\n",
        "   'place-types': 'settlement,airport,district',\n",
        "   'order': 'importance',\n",
        "   'a': 'true',\n",
        "   'format': 'json'\n",
        "    })\n",
        "    p=requests.get(location_url).json()\n",
        "    k=p['response']['results']['results'][0]['id']\n",
        "    return k"
      ]
    },
    {
      "cell_type": "markdown",
      "source": [
        "# **2.0 Extracting URL for the City**"
      ],
      "metadata": {
        "id": "h6vKbkpP3hnq"
      },
      "id": "h6vKbkpP3hnq"
    },
    {
      "cell_type": "markdown",
      "source": [
        "**2.1 Finding Location ID for the city**"
      ],
      "metadata": {
        "id": "Cce7IbDW3ul9"
      },
      "id": "Cce7IbDW3ul9"
    },
    {
      "cell_type": "code",
      "execution_count": 3,
      "id": "6a230850",
      "metadata": {
        "colab": {
          "base_uri": "https://localhost:8080/"
        },
        "id": "6a230850",
        "outputId": "3640d365-cf1a-4566-ed2b-fdc5b4659c78"
      },
      "outputs": [
        {
          "output_type": "stream",
          "name": "stdout",
          "text": [
            "enter a city: new york\n",
            "location id is:  5128581\n"
          ]
        }
      ],
      "source": [
        "city=input('enter a city: ')\n",
        "result=location_id(city)\n",
        "print('location id is: ',result)"
      ]
    },
    {
      "cell_type": "markdown",
      "source": [
        "**2.2 Extracting URL for the ID**"
      ],
      "metadata": {
        "id": "M7-MgYTk5B97"
      },
      "id": "M7-MgYTk5B97"
    },
    {
      "cell_type": "code",
      "execution_count": 4,
      "id": "c0835ec6",
      "metadata": {
        "id": "c0835ec6"
      },
      "outputs": [],
      "source": [
        "url      = 'https://www.bbc.com/weather/'+result\n",
        "response = requests.get(url)"
      ]
    },
    {
      "cell_type": "markdown",
      "source": [
        "# **3.0 Scraping Website**"
      ],
      "metadata": {
        "id": "cOwuVQSc5Ihf"
      },
      "id": "cOwuVQSc5Ihf"
    },
    {
      "cell_type": "markdown",
      "source": [
        "**3.1 Parsing the Webpage**"
      ],
      "metadata": {
        "id": "S683W1O_5SGq"
      },
      "id": "S683W1O_5SGq"
    },
    {
      "cell_type": "code",
      "execution_count": 5,
      "id": "7ad254d5",
      "metadata": {
        "id": "7ad254d5"
      },
      "outputs": [],
      "source": [
        "soup = BeautifulSoup(response.content,'html.parser') "
      ]
    },
    {
      "cell_type": "markdown",
      "source": [
        "**3.2 Scraping Daily High Temperatures**"
      ],
      "metadata": {
        "id": "ttfuB2HW5Wjp"
      },
      "id": "ttfuB2HW5Wjp"
    },
    {
      "cell_type": "code",
      "execution_count": 6,
      "id": "3e36422f",
      "metadata": {
        "colab": {
          "base_uri": "https://localhost:8080/"
        },
        "id": "3e36422f",
        "outputId": "631029f2-b736-414c-d944-4f17d3eeff34"
      },
      "outputs": [
        {
          "output_type": "execute_result",
          "data": {
            "text/plain": [
              "['0°',\n",
              " '-5°',\n",
              " '5°',\n",
              " '10°',\n",
              " '10°',\n",
              " '9°',\n",
              " '6°',\n",
              " '8°',\n",
              " '7°',\n",
              " '8°',\n",
              " '9°',\n",
              " '9°',\n",
              " '9°']"
            ]
          },
          "metadata": {},
          "execution_count": 6
        }
      ],
      "source": [
        "daily_high = soup.find_all('span', attrs={'class': 'wr-day-temperature__high-value'}) # block-type: span; identifier type: class; and class name: wr-day-temperature__high-value \n",
        "daily_high_values = [daily_high[i].text.strip().split()[0] for i in range(0,13)]\n",
        "daily_high_values"
      ]
    },
    {
      "cell_type": "markdown",
      "source": [
        "**3.3 Scraping Daily Low Temperatures**"
      ],
      "metadata": {
        "id": "PrOAqc_B5iF9"
      },
      "id": "PrOAqc_B5iF9"
    },
    {
      "cell_type": "code",
      "execution_count": 7,
      "id": "9e0c5c4b",
      "metadata": {
        "scrolled": true,
        "colab": {
          "base_uri": "https://localhost:8080/"
        },
        "id": "9e0c5c4b",
        "outputId": "231aaadb-ebb3-476c-9155-c74b53152aa4"
      },
      "outputs": [
        {
          "output_type": "execute_result",
          "data": {
            "text/plain": [
              "['-1°',\n",
              " '-14°',\n",
              " '-7°',\n",
              " '1°',\n",
              " '1°',\n",
              " '5°',\n",
              " '2°',\n",
              " '2°',\n",
              " '2°',\n",
              " '1°',\n",
              " '1°',\n",
              " '3°',\n",
              " '3°']"
            ]
          },
          "metadata": {},
          "execution_count": 7
        }
      ],
      "source": [
        "daily_low=soup.find_all('span', attrs={'class': 'wr-day-temperature__low-value'})\n",
        "daily_low_values =[daily_low[i].text.strip().split()[0] for i in range(0,13)]\n",
        "daily_low_values"
      ]
    },
    {
      "cell_type": "markdown",
      "source": [
        "**3.4 Scraping Daily Summaries**"
      ],
      "metadata": {
        "id": "iPgKP2lP5lUx"
      },
      "id": "iPgKP2lP5lUx"
    },
    {
      "cell_type": "code",
      "execution_count": 8,
      "id": "cde752d0",
      "metadata": {
        "colab": {
          "base_uri": "https://localhost:8080/"
        },
        "id": "cde752d0",
        "outputId": "34390a0c-821e-4012-adef-e2a492793a80"
      },
      "outputs": [
        {
          "output_type": "execute_result",
          "data": {
            "text/plain": [
              "['A clear sky and a moderate breeze',\n",
              " 'Sunny and a fresh breeze',\n",
              " 'Sunny and a moderate breeze',\n",
              " 'Sunny intervals and a gentle breeze',\n",
              " 'Sunny intervals and a gentle breeze',\n",
              " 'Light cloud and a gentle breeze',\n",
              " 'Light cloud and a moderate breeze',\n",
              " 'Sunny intervals and a gentle breeze',\n",
              " 'Light rain and a moderate breeze',\n",
              " 'Sunny intervals and a moderate breeze',\n",
              " 'Sunny intervals and a gentle breeze',\n",
              " 'Sunny intervals and a gentle breeze',\n",
              " 'Light cloud and a gentle breeze']"
            ]
          },
          "metadata": {},
          "execution_count": 8
        }
      ],
      "source": [
        "daily_summary = soup.find('div', attrs={'class': 'wr-day-summary'})\n",
        "daily_summary_list = re.findall('[a-zA-Z][^A-Z]*', daily_summary.text) #split the string on uppercase\n",
        "daily_summary_list=daily_summary_list[0:13]\n",
        "daily_summary_list"
      ]
    },
    {
      "cell_type": "markdown",
      "source": [
        "**3.5 Scraping Dates**"
      ],
      "metadata": {
        "id": "VxSjgNec5puV"
      },
      "id": "VxSjgNec5puV"
    },
    {
      "cell_type": "code",
      "execution_count": 9,
      "id": "23d57755",
      "metadata": {
        "colab": {
          "base_uri": "https://localhost:8080/"
        },
        "id": "23d57755",
        "outputId": "a20c9826-a61a-4323-e9f5-c27f8e905743"
      },
      "outputs": [
        {
          "output_type": "execute_result",
          "data": {
            "text/plain": [
              "['23-02-03',\n",
              " '23-02-04',\n",
              " '23-02-05',\n",
              " '23-02-06',\n",
              " '23-02-07',\n",
              " '23-02-08',\n",
              " '23-02-09',\n",
              " '23-02-10',\n",
              " '23-02-11',\n",
              " '23-02-12',\n",
              " '23-02-13',\n",
              " '23-02-14',\n",
              " '23-02-15']"
            ]
          },
          "metadata": {},
          "execution_count": 9
        }
      ],
      "source": [
        "datelist = pd.date_range(datetime.today(), periods=len(daily_high_values)).tolist()\n",
        "datelist = [datelist[i].date().strftime('%y-%m-%d') for i in range(0,13)]\n",
        "datelist"
      ]
    },
    {
      "cell_type": "markdown",
      "source": [
        "# **4.0 Arranging the Scraped values into a Dataframe**"
      ],
      "metadata": {
        "id": "genJR7lI5tJk"
      },
      "id": "genJR7lI5tJk"
    },
    {
      "cell_type": "code",
      "execution_count": 10,
      "id": "68445d1d",
      "metadata": {
        "id": "68445d1d"
      },
      "outputs": [],
      "source": [
        "weather={'Date':datelist,'High':daily_high_values,'Low':daily_low_values,'Summary':daily_summary_list}"
      ]
    },
    {
      "cell_type": "code",
      "execution_count": 11,
      "id": "1c9a9ad9",
      "metadata": {
        "colab": {
          "base_uri": "https://localhost:8080/",
          "height": 483
        },
        "id": "1c9a9ad9",
        "outputId": "854b0cc9-82bb-4ad4-ba53-ff4ba277dfa2"
      },
      "outputs": [
        {
          "output_type": "execute_result",
          "data": {
            "text/plain": [
              "         High   Low                                Summary\n",
              "Date                                                      \n",
              "23-02-03   0°   -1°      A clear sky and a moderate breeze\n",
              "23-02-04  -5°  -14°               Sunny and a fresh breeze\n",
              "23-02-05   5°   -7°            Sunny and a moderate breeze\n",
              "23-02-06  10°    1°    Sunny intervals and a gentle breeze\n",
              "23-02-07  10°    1°    Sunny intervals and a gentle breeze\n",
              "23-02-08   9°    5°        Light cloud and a gentle breeze\n",
              "23-02-09   6°    2°      Light cloud and a moderate breeze\n",
              "23-02-10   8°    2°    Sunny intervals and a gentle breeze\n",
              "23-02-11   7°    2°       Light rain and a moderate breeze\n",
              "23-02-12   8°    1°  Sunny intervals and a moderate breeze\n",
              "23-02-13   9°    1°    Sunny intervals and a gentle breeze\n",
              "23-02-14   9°    3°    Sunny intervals and a gentle breeze\n",
              "23-02-15   9°    3°        Light cloud and a gentle breeze"
            ],
            "text/html": [
              "\n",
              "  <div id=\"df-9dfa43f8-194a-4bd5-9dbe-fb99c33ceaa1\">\n",
              "    <div class=\"colab-df-container\">\n",
              "      <div>\n",
              "<style scoped>\n",
              "    .dataframe tbody tr th:only-of-type {\n",
              "        vertical-align: middle;\n",
              "    }\n",
              "\n",
              "    .dataframe tbody tr th {\n",
              "        vertical-align: top;\n",
              "    }\n",
              "\n",
              "    .dataframe thead th {\n",
              "        text-align: right;\n",
              "    }\n",
              "</style>\n",
              "<table border=\"1\" class=\"dataframe\">\n",
              "  <thead>\n",
              "    <tr style=\"text-align: right;\">\n",
              "      <th></th>\n",
              "      <th>High</th>\n",
              "      <th>Low</th>\n",
              "      <th>Summary</th>\n",
              "    </tr>\n",
              "    <tr>\n",
              "      <th>Date</th>\n",
              "      <th></th>\n",
              "      <th></th>\n",
              "      <th></th>\n",
              "    </tr>\n",
              "  </thead>\n",
              "  <tbody>\n",
              "    <tr>\n",
              "      <th>23-02-03</th>\n",
              "      <td>0°</td>\n",
              "      <td>-1°</td>\n",
              "      <td>A clear sky and a moderate breeze</td>\n",
              "    </tr>\n",
              "    <tr>\n",
              "      <th>23-02-04</th>\n",
              "      <td>-5°</td>\n",
              "      <td>-14°</td>\n",
              "      <td>Sunny and a fresh breeze</td>\n",
              "    </tr>\n",
              "    <tr>\n",
              "      <th>23-02-05</th>\n",
              "      <td>5°</td>\n",
              "      <td>-7°</td>\n",
              "      <td>Sunny and a moderate breeze</td>\n",
              "    </tr>\n",
              "    <tr>\n",
              "      <th>23-02-06</th>\n",
              "      <td>10°</td>\n",
              "      <td>1°</td>\n",
              "      <td>Sunny intervals and a gentle breeze</td>\n",
              "    </tr>\n",
              "    <tr>\n",
              "      <th>23-02-07</th>\n",
              "      <td>10°</td>\n",
              "      <td>1°</td>\n",
              "      <td>Sunny intervals and a gentle breeze</td>\n",
              "    </tr>\n",
              "    <tr>\n",
              "      <th>23-02-08</th>\n",
              "      <td>9°</td>\n",
              "      <td>5°</td>\n",
              "      <td>Light cloud and a gentle breeze</td>\n",
              "    </tr>\n",
              "    <tr>\n",
              "      <th>23-02-09</th>\n",
              "      <td>6°</td>\n",
              "      <td>2°</td>\n",
              "      <td>Light cloud and a moderate breeze</td>\n",
              "    </tr>\n",
              "    <tr>\n",
              "      <th>23-02-10</th>\n",
              "      <td>8°</td>\n",
              "      <td>2°</td>\n",
              "      <td>Sunny intervals and a gentle breeze</td>\n",
              "    </tr>\n",
              "    <tr>\n",
              "      <th>23-02-11</th>\n",
              "      <td>7°</td>\n",
              "      <td>2°</td>\n",
              "      <td>Light rain and a moderate breeze</td>\n",
              "    </tr>\n",
              "    <tr>\n",
              "      <th>23-02-12</th>\n",
              "      <td>8°</td>\n",
              "      <td>1°</td>\n",
              "      <td>Sunny intervals and a moderate breeze</td>\n",
              "    </tr>\n",
              "    <tr>\n",
              "      <th>23-02-13</th>\n",
              "      <td>9°</td>\n",
              "      <td>1°</td>\n",
              "      <td>Sunny intervals and a gentle breeze</td>\n",
              "    </tr>\n",
              "    <tr>\n",
              "      <th>23-02-14</th>\n",
              "      <td>9°</td>\n",
              "      <td>3°</td>\n",
              "      <td>Sunny intervals and a gentle breeze</td>\n",
              "    </tr>\n",
              "    <tr>\n",
              "      <th>23-02-15</th>\n",
              "      <td>9°</td>\n",
              "      <td>3°</td>\n",
              "      <td>Light cloud and a gentle breeze</td>\n",
              "    </tr>\n",
              "  </tbody>\n",
              "</table>\n",
              "</div>\n",
              "      <button class=\"colab-df-convert\" onclick=\"convertToInteractive('df-9dfa43f8-194a-4bd5-9dbe-fb99c33ceaa1')\"\n",
              "              title=\"Convert this dataframe to an interactive table.\"\n",
              "              style=\"display:none;\">\n",
              "        \n",
              "  <svg xmlns=\"http://www.w3.org/2000/svg\" height=\"24px\"viewBox=\"0 0 24 24\"\n",
              "       width=\"24px\">\n",
              "    <path d=\"M0 0h24v24H0V0z\" fill=\"none\"/>\n",
              "    <path d=\"M18.56 5.44l.94 2.06.94-2.06 2.06-.94-2.06-.94-.94-2.06-.94 2.06-2.06.94zm-11 1L8.5 8.5l.94-2.06 2.06-.94-2.06-.94L8.5 2.5l-.94 2.06-2.06.94zm10 10l.94 2.06.94-2.06 2.06-.94-2.06-.94-.94-2.06-.94 2.06-2.06.94z\"/><path d=\"M17.41 7.96l-1.37-1.37c-.4-.4-.92-.59-1.43-.59-.52 0-1.04.2-1.43.59L10.3 9.45l-7.72 7.72c-.78.78-.78 2.05 0 2.83L4 21.41c.39.39.9.59 1.41.59.51 0 1.02-.2 1.41-.59l7.78-7.78 2.81-2.81c.8-.78.8-2.07 0-2.86zM5.41 20L4 18.59l7.72-7.72 1.47 1.35L5.41 20z\"/>\n",
              "  </svg>\n",
              "      </button>\n",
              "      \n",
              "  <style>\n",
              "    .colab-df-container {\n",
              "      display:flex;\n",
              "      flex-wrap:wrap;\n",
              "      gap: 12px;\n",
              "    }\n",
              "\n",
              "    .colab-df-convert {\n",
              "      background-color: #E8F0FE;\n",
              "      border: none;\n",
              "      border-radius: 50%;\n",
              "      cursor: pointer;\n",
              "      display: none;\n",
              "      fill: #1967D2;\n",
              "      height: 32px;\n",
              "      padding: 0 0 0 0;\n",
              "      width: 32px;\n",
              "    }\n",
              "\n",
              "    .colab-df-convert:hover {\n",
              "      background-color: #E2EBFA;\n",
              "      box-shadow: 0px 1px 2px rgba(60, 64, 67, 0.3), 0px 1px 3px 1px rgba(60, 64, 67, 0.15);\n",
              "      fill: #174EA6;\n",
              "    }\n",
              "\n",
              "    [theme=dark] .colab-df-convert {\n",
              "      background-color: #3B4455;\n",
              "      fill: #D2E3FC;\n",
              "    }\n",
              "\n",
              "    [theme=dark] .colab-df-convert:hover {\n",
              "      background-color: #434B5C;\n",
              "      box-shadow: 0px 1px 3px 1px rgba(0, 0, 0, 0.15);\n",
              "      filter: drop-shadow(0px 1px 2px rgba(0, 0, 0, 0.3));\n",
              "      fill: #FFFFFF;\n",
              "    }\n",
              "  </style>\n",
              "\n",
              "      <script>\n",
              "        const buttonEl =\n",
              "          document.querySelector('#df-9dfa43f8-194a-4bd5-9dbe-fb99c33ceaa1 button.colab-df-convert');\n",
              "        buttonEl.style.display =\n",
              "          google.colab.kernel.accessAllowed ? 'block' : 'none';\n",
              "\n",
              "        async function convertToInteractive(key) {\n",
              "          const element = document.querySelector('#df-9dfa43f8-194a-4bd5-9dbe-fb99c33ceaa1');\n",
              "          const dataTable =\n",
              "            await google.colab.kernel.invokeFunction('convertToInteractive',\n",
              "                                                     [key], {});\n",
              "          if (!dataTable) return;\n",
              "\n",
              "          const docLinkHtml = 'Like what you see? Visit the ' +\n",
              "            '<a target=\"_blank\" href=https://colab.research.google.com/notebooks/data_table.ipynb>data table notebook</a>'\n",
              "            + ' to learn more about interactive tables.';\n",
              "          element.innerHTML = '';\n",
              "          dataTable['output_type'] = 'display_data';\n",
              "          await google.colab.output.renderOutput(dataTable, element);\n",
              "          const docLink = document.createElement('div');\n",
              "          docLink.innerHTML = docLinkHtml;\n",
              "          element.appendChild(docLink);\n",
              "        }\n",
              "      </script>\n",
              "    </div>\n",
              "  </div>\n",
              "  "
            ]
          },
          "metadata": {},
          "execution_count": 11
        }
      ],
      "source": [
        "df = pd.DataFrame(weather)\n",
        "df=df.set_index('Date')\n",
        "df"
      ]
    }
  ],
  "metadata": {
    "kernelspec": {
      "display_name": "Python 3 (ipykernel)",
      "language": "python",
      "name": "python3"
    },
    "language_info": {
      "codemirror_mode": {
        "name": "ipython",
        "version": 3
      },
      "file_extension": ".py",
      "mimetype": "text/x-python",
      "name": "python",
      "nbconvert_exporter": "python",
      "pygments_lexer": "ipython3",
      "version": "3.10.8"
    },
    "colab": {
      "provenance": []
    }
  },
  "nbformat": 4,
  "nbformat_minor": 5
}